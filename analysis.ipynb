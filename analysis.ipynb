{
 "metadata": {
  "language_info": {
   "codemirror_mode": {
    "name": "ipython",
    "version": 3
   },
   "file_extension": ".py",
   "mimetype": "text/x-python",
   "name": "python",
   "nbconvert_exporter": "python",
   "pygments_lexer": "ipython3",
   "version": "3.8.0-final"
  },
  "orig_nbformat": 2,
  "kernelspec": {
   "name": "python_defaultSpec_1597881549468",
   "display_name": "Python 3.8.0 64-bit ('investor_conference': venv)"
  }
 },
 "nbformat": 4,
 "nbformat_minor": 2,
 "cells": [
  {
   "cell_type": "code",
   "execution_count": 14,
   "metadata": {
    "tags": []
   },
   "outputs": [
    {
     "output_type": "stream",
     "name": "stdout",
     "text": "The autoreload extension is already loaded. To reload it, use:\n  %reload_ext autoreload\n"
    }
   ],
   "source": [
    "import torch.nn as nn\n",
    "\n",
    "from models import investorConferenceAnalyzer\n",
    "\n",
    "def get_args():\n",
    "    def args():\n",
    "        pass\n",
    "    args.dev_data_path = './data/trees/dev.txt'\n",
    "    args.test_data_path = './data/trees/test.txt'\n",
    "    args.pce_model = 'albert-base-v2'\n",
    "    args.train_record_file = './data/train.npz'\n",
    "    args.num_labels = 5\n",
    "    args.train_eval_file='./data/train_eval.json'\n",
    "    return args\n",
    "\n",
    "args = get_args()\n",
    "%load_ext autoreload\n",
    "%autoreload 2"
   ]
  },
  {
   "cell_type": "code",
   "execution_count": 15,
   "metadata": {
    "tags": []
   },
   "outputs": [
    {
     "output_type": "stream",
     "name": "stderr",
     "text": "Some weights of the model checkpoint at albert-base-v2 were not used when initializing AlbertForSequenceClassification: ['predictions.bias', 'predictions.LayerNorm.weight', 'predictions.LayerNorm.bias', 'predictions.dense.weight', 'predictions.dense.bias', 'predictions.decoder.weight', 'predictions.decoder.bias']\n- This IS expected if you are initializing AlbertForSequenceClassification from the checkpoint of a model trained on another task or with another architecture (e.g. initializing a BertForSequenceClassification model from a BertForPretraining model).\n- This IS NOT expected if you are initializing AlbertForSequenceClassification from the checkpoint of a model that you expect to be exactly identical (initializing a BertForSequenceClassification model from a BertForSequenceClassification model).\nSome weights of AlbertForSequenceClassification were not initialized from the model checkpoint at albert-base-v2 and are newly initialized: ['classifier.weight', 'classifier.bias']\nYou should probably TRAIN this model on a down-stream task to be able to use it for predictions and inference.\n"
    }
   ],
   "source": [
    "# Set up model and dataset\n",
    "model = investorConferenceAnalyzer(args.pce_model, args.num_labels)\n",
    "device, args.gpu_ids = utils.get_available_devices()\n",
    "model = nn.DataParallel(model, [])"
   ]
  },
  {
   "cell_type": "code",
   "execution_count": 18,
   "metadata": {
    "tags": []
   },
   "outputs": [
    {
     "output_type": "stream",
     "name": "stdout",
     "text": "module.classifier.albert.embeddings.word_embeddings.weight torch.Size([30000, 128])\nmodule.classifier.albert.embeddings.position_embeddings.weight torch.Size([512, 128])\nmodule.classifier.albert.embeddings.token_type_embeddings.weight torch.Size([2, 128])\nmodule.classifier.albert.embeddings.LayerNorm.weight torch.Size([128])\nmodule.classifier.albert.embeddings.LayerNorm.bias torch.Size([128])\nmodule.classifier.albert.encoder.embedding_hidden_mapping_in.weight torch.Size([768, 128])\nmodule.classifier.albert.encoder.embedding_hidden_mapping_in.bias torch.Size([768])\nmodule.classifier.albert.encoder.albert_layer_groups.0.albert_layers.0.full_layer_layer_norm.weight torch.Size([768])\nmodule.classifier.albert.encoder.albert_layer_groups.0.albert_layers.0.full_layer_layer_norm.bias torch.Size([768])\nmodule.classifier.albert.encoder.albert_layer_groups.0.albert_layers.0.attention.query.weight torch.Size([768, 768])\nmodule.classifier.albert.encoder.albert_layer_groups.0.albert_layers.0.attention.query.bias torch.Size([768])\nmodule.classifier.albert.encoder.albert_layer_groups.0.albert_layers.0.attention.key.weight torch.Size([768, 768])\nmodule.classifier.albert.encoder.albert_layer_groups.0.albert_layers.0.attention.key.bias torch.Size([768])\nmodule.classifier.albert.encoder.albert_layer_groups.0.albert_layers.0.attention.value.weight torch.Size([768, 768])\nmodule.classifier.albert.encoder.albert_layer_groups.0.albert_layers.0.attention.value.bias torch.Size([768])\nmodule.classifier.albert.encoder.albert_layer_groups.0.albert_layers.0.attention.dense.weight torch.Size([768, 768])\nmodule.classifier.albert.encoder.albert_layer_groups.0.albert_layers.0.attention.dense.bias torch.Size([768])\nmodule.classifier.albert.encoder.albert_layer_groups.0.albert_layers.0.attention.LayerNorm.weight torch.Size([768])\nmodule.classifier.albert.encoder.albert_layer_groups.0.albert_layers.0.attention.LayerNorm.bias torch.Size([768])\nmodule.classifier.albert.encoder.albert_layer_groups.0.albert_layers.0.ffn.weight torch.Size([3072, 768])\nmodule.classifier.albert.encoder.albert_layer_groups.0.albert_layers.0.ffn.bias torch.Size([3072])\nmodule.classifier.albert.encoder.albert_layer_groups.0.albert_layers.0.ffn_output.weight torch.Size([768, 3072])\nmodule.classifier.albert.encoder.albert_layer_groups.0.albert_layers.0.ffn_output.bias torch.Size([768])\nmodule.classifier.albert.pooler.weight torch.Size([768, 768])\nmodule.classifier.albert.pooler.bias torch.Size([768])\nmodule.classifier.classifier.weight torch.Size([5, 768])\nmodule.classifier.classifier.bias torch.Size([5])\n"
    }
   ],
   "source": [
    "# Model structures\n",
    "for name, param in model.named_parameters():\n",
    "    print(name, param.shape)"
   ]
  }
 ]
}