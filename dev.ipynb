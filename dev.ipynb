{
 "metadata": {
  "language_info": {
   "codemirror_mode": {
    "name": "ipython",
    "version": 3
   },
   "file_extension": ".py",
   "mimetype": "text/x-python",
   "name": "python",
   "nbconvert_exporter": "python",
   "pygments_lexer": "ipython3",
   "version": "3.8.0-final"
  },
  "orig_nbformat": 2,
  "kernelspec": {
   "name": "python_defaultSpec_1597967587179",
   "display_name": "Python 3.8.0 64-bit ('investor_conference': venv)"
  }
 },
 "nbformat": 4,
 "nbformat_minor": 2,
 "cells": [
  {
   "cell_type": "code",
   "execution_count": 30,
   "metadata": {
    "tags": []
   },
   "outputs": [
    {
     "output_type": "stream",
     "name": "stdout",
     "text": "The autoreload extension is already loaded. To reload it, use:\n  %reload_ext autoreload\n[autoreload of utils failed: Traceback (most recent call last):\n  File \"/Users/staff/Desktop/.pyenv/versions/investor_conference/lib/python3.8/site-packages/IPython/extensions/autoreload.py\", line 245, in check\n    superreload(m, reload, self.old_objects)\n  File \"/Users/staff/Desktop/.pyenv/versions/investor_conference/lib/python3.8/site-packages/IPython/extensions/autoreload.py\", line 394, in superreload\n    module = reload(module)\n  File \"/Users/staff/Desktop/.pyenv/versions/3.8.0/lib/python3.8/imp.py\", line 314, in reload\n    return importlib.reload(module)\n  File \"/Users/staff/Desktop/.pyenv/versions/3.8.0/lib/python3.8/importlib/__init__.py\", line 169, in reload\n    _bootstrap._exec(spec, module)\n  File \"<frozen importlib._bootstrap>\", line 604, in _exec\n  File \"<frozen importlib._bootstrap_external>\", line 779, in exec_module\n  File \"<frozen importlib._bootstrap_external>\", line 916, in get_code\n  File \"<frozen importlib._bootstrap_external>\", line 846, in source_to_code\n  File \"<frozen importlib._bootstrap>\", line 219, in _call_with_frames_removed\n  File \"/Users/staff/Desktop/Desktop/investor_conference/train_model/utils.py\", line 479\n    \n    ^\nSyntaxError: unexpected EOF while parsing\n]\n"
    }
   ],
   "source": [
    "import re\n",
    "import json\n",
    "import itertools\n",
    "import numpy as np\n",
    "import matplotlib.pyplot as plt\n",
    "import torch\n",
    "import torch.utils.data as data\n",
    "\n",
    "from tqdm import tqdm\n",
    "from sklearn.metrics import confusion_matrix, precision_recall_fscore_support\n",
    "from transformers import AlbertTokenizer\n",
    "from setup import process_file\n",
    "from models import investorConferenceAnalyzer\n",
    "from utils import Treebank, collate_fn, nll_loss_label_smoothing\n",
    "\n",
    "def get_args():\n",
    "    def args():\n",
    "        pass\n",
    "    args.train_data_path = './data/trees/train.txt'\n",
    "    args.dev_data_path = './data/trees/dev.txt'\n",
    "    args.test_data_path = './data/trees/test.txt'\n",
    "    args.pce_model = 'albert-base-v2'\n",
    "    args.train_record_file = './data/train.npz'\n",
    "    args.num_labels = 5\n",
    "    args.batch_size = 4\n",
    "    args.train_eval_file = './data/train_eval.json'\n",
    "    args.tiny_eval_file = './data/train_tiny_eval.json'\n",
    "    args.train_meta_file = './data/train_meta.json'\n",
    "    args.train_record_file = './data/train.npz'\n",
    "    args.train_eval_file = './data/train_eval.json'\n",
    "    return args\n",
    "\n",
    "args = get_args()\n",
    "%load_ext autoreload\n",
    "%autoreload 2"
   ]
  },
  {
   "cell_type": "code",
   "execution_count": 32,
   "metadata": {
    "tags": []
   },
   "outputs": [
    {
     "output_type": "stream",
     "name": "stdout",
     "text": "Help on function nll_loss_label_smoothing in module utils:\n\nnll_loss_label_smoothing(log_p, targets, eps=0.1)\n    Calculate cross entropy loss with label smoothing\n    \n    Args:\n        log_p (torch.Tensor): Log probability.\n        targets (torch.Tensor): Target labels.\n        eps (float): Label smoothing parameter.\n    \n    Returns:\n        loss[torch.Tensor]: Mean entropy loss with label smoothing.\n\n"
    }
   ],
   "source": [
    "help(nll_loss_label_smoothing)"
   ]
  },
  {
   "cell_type": "code",
   "execution_count": 28,
   "metadata": {
    "tags": []
   },
   "outputs": [],
   "source": [
    "changed_files = ('record_file', 'eval_file', 'meta_file')\n",
    "for key, value in vars(args).items():\n",
    "    if any(name in key for name in changed_files):\n",
    "        value = vars(args)[key]\n",
    "        path = value.split(\".\")\n",
    "        path[-2] = f'{path[-2]}_b'\n",
    "        value = '.'.join(path)\n",
    "        setattr(args, key, value)"
   ]
  },
  {
   "cell_type": "code",
   "execution_count": 4,
   "metadata": {
    "tags": []
   },
   "outputs": [
    {
     "output_type": "stream",
     "name": "stderr",
     "text": "Some weights of the model checkpoint at albert-base-v2 were not used when initializing AlbertForSequenceClassification: ['predictions.bias', 'predictions.LayerNorm.weight', 'predictions.LayerNorm.bias', 'predictions.dense.weight', 'predictions.dense.bias', 'predictions.decoder.weight', 'predictions.decoder.bias']\n- This IS expected if you are initializing AlbertForSequenceClassification from the checkpoint of a model trained on another task or with another architecture (e.g. initializing a BertForSequenceClassification model from a BertForPretraining model).\n- This IS NOT expected if you are initializing AlbertForSequenceClassification from the checkpoint of a model that you expect to be exactly identical (initializing a BertForSequenceClassification model from a BertForSequenceClassification model).\nSome weights of AlbertForSequenceClassification were not initialized from the model checkpoint at albert-base-v2 and are newly initialized: ['classifier.weight', 'classifier.bias']\nYou should probably TRAIN this model on a down-stream task to be able to use it for predictions and inference.\n"
    }
   ],
   "source": [
    "model = investorConferenceAnalyzer(args.pce_model, args.num_labels)\n",
    "dataset = Treebank(args.train_record_file)\n",
    "dataloader = data.DataLoader(dataset,\n",
    "                             batch_size=args.batch_size,\n",
    "                             shuffle=False,\n",
    "                             num_workers=4,\n",
    "                             collate_fn=collate_fn)"
   ]
  },
  {
   "cell_type": "code",
   "execution_count": 43,
   "metadata": {},
   "outputs": [
    {
     "output_type": "execute_result",
     "data": {
      "text/plain": "tensor([1.5523, 1.8172], grad_fn=<AddBackward0>)"
     },
     "metadata": {},
     "execution_count": 43
    }
   ],
   "source": [
    "input_idxs, token_type_idxs, attention_masks, ys, ids = dataset[:2]\n",
    "log_p = model(input_idxs, token_type_idxs, attention_masks)\n",
    "nll_loss = -log_p.gather(dim=-1, index=ys.unsqueeze(1)).squeeze(-1)\n",
    "smooth_loss = -log_p.mean(dim=-1)\n",
    "loss = nll_loss * (1 - eps) + smooth_loss * eps\n",
    "loss.mean()"
   ]
  }
 ]
}